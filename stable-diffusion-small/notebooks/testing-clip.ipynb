{
 "cells": [
  {
   "cell_type": "code",
   "execution_count": 2,
   "metadata": {},
   "outputs": [],
   "source": [
    "import os\n",
    "import clip\n",
    "import torch\n",
    "from PIL import Image\n",
    "\n",
    "device = \"cuda\" if torch.cuda.is_available() else \"cpu\""
   ]
  },
  {
   "cell_type": "code",
   "execution_count": 7,
   "metadata": {},
   "outputs": [],
   "source": [
    "model, preprocess = clip.load(\"ViT-B/32\", device=device)\n",
    "\n",
    "imgs_path = \"data/imgs\"\n",
    "labels = [os.path.splitext(f)[0] for f in os.listdir(imgs_path)]\n",
    "imgs_path = [os.path.join(imgs_path, img) for img in os.listdir(imgs_path)]\n",
    "imgs = torch.vstack([preprocess(Image.open(i)).unsqueeze(0).to(device) for i in imgs_path])"
   ]
  },
  {
   "cell_type": "code",
   "execution_count": 27,
   "metadata": {},
   "outputs": [
    {
     "name": "stdout",
     "output_type": "stream",
     "text": [
      "Prediction: cat\n",
      "Confidence: 0.9047989249229431\n",
      "Label probs: tensor([3.6873e-02, 2.5675e-04, 1.2367e-02, 4.5704e-02, 9.0480e-01])\n"
     ]
    }
   ],
   "source": [
    "query = \"I am beautiful\"\n",
    "query_tokens = clip.tokenize([query]).to(device)\n",
    "with torch.no_grad():\n",
    "    query_features = model.encode_text(query_tokens)\n",
    "    image_features = model.encode_image(imgs)\n",
    "\n",
    "\n",
    "logits_per_text = (image_features @ query_features.T).squeeze(1).softmax(dim=-1)\n",
    "prediction = labels[logits_per_text.argmax()]\n",
    "\n",
    "print(f\"Prediction: {prediction}\")\n",
    "print(f\"Confidence: {logits_per_text.max().item()}\")\n",
    "print(f\"Label probs: {logits_per_text}\")\n"
   ]
  },
  {
   "cell_type": "code",
   "execution_count": null,
   "metadata": {},
   "outputs": [],
   "source": [
    "def proces_name(name):\n",
    "    return name.upper()\n",
    "\n",
    "def proces_age(age):\n",
    "    return age + 10\n",
    "\n",
    "class Person:\n",
    "\n",
    "    __slots__ = [\"name\", \"age\"]\n",
    "\n",
    "    def __init__(self, \n",
    "                 name, \n",
    "                 age):\n",
    "        self._name = name\n",
    "        self._age = age\n",
    "\n",
    "\n",
    "    @property\n",
    "    def name(self):\n",
    "        return self._name\n",
    "    \n",
    "    @property\n",
    "    def age(self):\n",
    "        return self._age\n",
    "    \n",
    "    @name.setter\n",
    "    def name(self, value):\n",
    "        self._name = proces_name(value)\n",
    "    \n",
    "    @age.setter\n",
    "    def age(self, value):\n",
    "        self._age = proces_age(value)\n",
    "    \n",
    "\n"
   ]
  }
 ],
 "metadata": {
  "kernelspec": {
   "display_name": "lsm-env",
   "language": "python",
   "name": "python3"
  },
  "language_info": {
   "codemirror_mode": {
    "name": "ipython",
    "version": 3
   },
   "file_extension": ".py",
   "mimetype": "text/x-python",
   "name": "python",
   "nbconvert_exporter": "python",
   "pygments_lexer": "ipython3",
   "version": "3.9.6"
  }
 },
 "nbformat": 4,
 "nbformat_minor": 2
}
